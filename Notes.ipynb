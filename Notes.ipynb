{
 "cells": [
  {
   "cell_type": "markdown",
   "id": "c2ebb9e7",
   "metadata": {},
   "source": [
    "# Day 5"
   ]
  },
  {
   "cell_type": "markdown",
   "id": "5ca68673",
   "metadata": {},
   "source": [
    "## Loops\n",
    "### For loop"
   ]
  },
  {
   "cell_type": "markdown",
   "id": "dd8c95a2",
   "metadata": {},
   "source": [
    "The for loop can go through each item in a list witht the same action specfied within on each item in the list. Multiple action can be done wihtin a loop - Indentation is IMPORTANT\n",
    "\n"
   ]
  },
  {
   "cell_type": "code",
   "execution_count": 2,
   "id": "6cc60404",
   "metadata": {},
   "outputs": [
    {
     "name": "stdout",
     "output_type": "stream",
     "text": [
      "Apple\n",
      "Apple pie\n",
      "Peach\n",
      "Peach pie\n",
      "Pear\n",
      "Pear pie\n"
     ]
    }
   ],
   "source": [
    "fruits = [\"Apple\", \"Peach\", \"Pear\"]\n",
    "for fruit in fruits:\n",
    "    print(fruit)\n",
    "    print(fruit + \" pie\")"
   ]
  },
  {
   "cell_type": "markdown",
   "id": "448b0905",
   "metadata": {},
   "source": [
    "Python have a whole arrey of number operation funciton, that can help by default\n"
   ]
  },
  {
   "cell_type": "code",
   "execution_count": 3,
   "id": "20ab00bc",
   "metadata": {},
   "outputs": [
    {
     "name": "stdout",
     "output_type": "stream",
     "text": [
      "597\n",
      "597\n"
     ]
    }
   ],
   "source": [
    "student_scores = [150, 142, 185, 120]\n",
    "\n",
    "total = sum(student_scores)\n",
    "print(total)\n",
    "\n",
    "sum_total = 0\n",
    "for score in student_scores:\n",
    "    sum_total += score\n",
    "\n",
    "print(sum_total)"
   ]
  },
  {
   "cell_type": "markdown",
   "id": "426c6d1e",
   "metadata": {},
   "source": [
    "### Challange"
   ]
  },
  {
   "cell_type": "markdown",
   "id": "9d7c43b6",
   "metadata": {},
   "source": [
    "Recreate the max() function, using loop"
   ]
  },
  {
   "cell_type": "code",
   "execution_count": null,
   "id": "a628f820",
   "metadata": {},
   "outputs": [
    {
     "name": "stdout",
     "output_type": "stream",
     "text": [
      "Expected outcome: 300\n",
      "My outcome: 300\n"
     ]
    }
   ],
   "source": [
    "student_scores.append(300)\n",
    "print(f\"Expected outcome: {max(student_scores)}\")\n",
    "\n",
    "largest = 0\n",
    "for number in student_scores:\n",
    "    if number > largest:\n",
    "        largest = number\n",
    "print(f\"My outcome: {largest}\")"
   ]
  },
  {
   "cell_type": "markdown",
   "id": "11c73977",
   "metadata": {},
   "source": [
    "## Range function"
   ]
  },
  {
   "cell_type": "markdown",
   "id": "e9bce9a2",
   "metadata": {},
   "source": [
    "This built in function is useful, if we want to do something a ceration mumber of times. With this fucntin, we don't need to create a list with all number, it will add it to us.\n",
    "range(a,b) - a starting point, b ending point\n",
    "\n",
    "Only can be used in combination with other fucntions. b is not included\n",
    "\n",
    "If you want to increast the step by 2, and other argument needs to be added"
   ]
  },
  {
   "cell_type": "code",
   "execution_count": 11,
   "id": "ffaf7ce0",
   "metadata": {},
   "outputs": [
    {
     "name": "stdout",
     "output_type": "stream",
     "text": [
      "List 1: [1, 2, 3, 4, 5, 6, 7, 8, 9]\n",
      "List 2: [2, 4, 6, 8, 10, 12, 14, 16, 18]\n"
     ]
    }
   ],
   "source": [
    "list1 = []\n",
    "for number in range(1, 10):\n",
    "    list1.append(number)\n",
    "print(f\"List 1: {list1}\")\n",
    "\n",
    "list2 = []\n",
    "for number in range(2,20,2):\n",
    "    list2.append(number)\n",
    "print(f\"List 2: {list2}\")\n"
   ]
  },
  {
   "cell_type": "markdown",
   "id": "26b18603",
   "metadata": {},
   "source": [
    "### Gaus challange"
   ]
  },
  {
   "cell_type": "markdown",
   "id": "93e3798e",
   "metadata": {},
   "source": [
    "Add all the number up to 100."
   ]
  },
  {
   "cell_type": "code",
   "execution_count": null,
   "id": "b775237b",
   "metadata": {},
   "outputs": [
    {
     "name": "stdout",
     "output_type": "stream",
     "text": [
      "5050\n",
      "5050\n"
     ]
    }
   ],
   "source": [
    "#Method 1\n",
    "total = 0\n",
    "for number in range(1,101):\n",
    "    total += number\n",
    "print(total)\n",
    "\n",
    "#Method 2\n",
    "print(sum(range(1,101)))"
   ]
  },
  {
   "cell_type": "markdown",
   "id": "e32c17b3",
   "metadata": {},
   "source": [
    "## Challange\n",
    "FizzBuzz\n",
    "You are going to write a program that automatically prints the solution to the FizzBuzz game. These are the rules of the FizzBuzz game:\n",
    "- Your program should print each number from 1 to 100 in turn and include number 100.\n",
    "- But when the number is divisible by 3 then instead of printing the number it should print \"Fizz\".\n",
    "- When the number is divisible by 5, then instead of printing the number it should print \"Buzz\".`\n",
    "- And if the number is divisible by both 3 and 5 e.g. 15 then instead of the number it should print \"FizzBuzz\""
   ]
  },
  {
   "cell_type": "code",
   "execution_count": 14,
   "id": "da7dd604",
   "metadata": {},
   "outputs": [
    {
     "name": "stdout",
     "output_type": "stream",
     "text": [
      "1\n",
      "2\n",
      "Fizz\n",
      "4\n",
      "Buzz\n",
      "Fizz\n",
      "7\n",
      "8\n",
      "Fizz\n",
      "Buzz\n",
      "11\n",
      "Fizz\n",
      "13\n",
      "14\n",
      "FizzBuzz\n",
      "16\n",
      "17\n",
      "Fizz\n",
      "19\n",
      "Buzz\n",
      "Fizz\n",
      "22\n",
      "23\n",
      "Fizz\n",
      "Buzz\n",
      "26\n",
      "Fizz\n",
      "28\n",
      "29\n",
      "FizzBuzz\n",
      "31\n",
      "32\n",
      "Fizz\n",
      "34\n",
      "Buzz\n",
      "Fizz\n",
      "37\n",
      "38\n",
      "Fizz\n",
      "Buzz\n",
      "41\n",
      "Fizz\n",
      "43\n",
      "44\n",
      "FizzBuzz\n",
      "46\n",
      "47\n",
      "Fizz\n",
      "49\n",
      "Buzz\n",
      "Fizz\n",
      "52\n",
      "53\n",
      "Fizz\n",
      "Buzz\n",
      "56\n",
      "Fizz\n",
      "58\n",
      "59\n",
      "FizzBuzz\n",
      "61\n",
      "62\n",
      "Fizz\n",
      "64\n",
      "Buzz\n",
      "Fizz\n",
      "67\n",
      "68\n",
      "Fizz\n",
      "Buzz\n",
      "71\n",
      "Fizz\n",
      "73\n",
      "74\n",
      "FizzBuzz\n",
      "76\n",
      "77\n",
      "Fizz\n",
      "79\n",
      "Buzz\n",
      "Fizz\n",
      "82\n",
      "83\n",
      "Fizz\n",
      "Buzz\n",
      "86\n",
      "Fizz\n",
      "88\n",
      "89\n",
      "FizzBuzz\n",
      "91\n",
      "92\n",
      "Fizz\n",
      "94\n",
      "Buzz\n",
      "Fizz\n",
      "97\n",
      "98\n",
      "Fizz\n",
      "Buzz\n"
     ]
    }
   ],
   "source": [
    "for number in range(1,101):\n",
    "    if ((number % 3) == 0) and ((number % 5) == 0):\n",
    "        print(\"FizzBuzz\") \n",
    "    elif (number % 3) == 0:\n",
    "        print(\"Fizz\")\n",
    "    elif (number % 5) == 0:\n",
    "        print(\"Buzz\") \n",
    "    else:\n",
    "        print(number)"
   ]
  }
 ],
 "metadata": {
  "kernelspec": {
   "display_name": "Python 3",
   "language": "python",
   "name": "python3"
  },
  "language_info": {
   "codemirror_mode": {
    "name": "ipython",
    "version": 3
   },
   "file_extension": ".py",
   "mimetype": "text/x-python",
   "name": "python",
   "nbconvert_exporter": "python",
   "pygments_lexer": "ipython3",
   "version": "3.12.1"
  }
 },
 "nbformat": 4,
 "nbformat_minor": 5
}
